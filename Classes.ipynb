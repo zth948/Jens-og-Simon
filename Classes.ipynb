{
 "cells": [
  {
   "cell_type": "markdown",
   "metadata": {},
   "source": [
    "# Classes"
   ]
  },
  {
   "cell_type": "markdown",
   "metadata": {},
   "source": [
    "BMI is defined as \n",
    "\n",
    "$$\n",
    "BMI=\\frac {weight}{\\frac {height}{100}^2}\n",
    "$$"
   ]
  },
  {
   "cell_type": "code",
   "execution_count": 3,
   "metadata": {},
   "outputs": [],
   "source": [
    "class Human():\n",
    "\n",
    "    def __init__(self,name,height,weight): # __init__ is called when created (initialized), self is the class itself\n",
    "        # save the inputs as attributes\n",
    "        self.name = name # an attribute\n",
    "        self.height = height # an attribute\n",
    "        self.weight = weight # an attribute\n",
    "\n",
    "    def bmi(self): # a method\n",
    "        bmi = self.weight/(self.height/100)**2 # calculate BMI\n",
    "        return bmi # output BMI\n",
    "\n",
    "    def print_bmi(self): \n",
    "        print(self.bmi())"
   ]
  },
  {
   "cell_type": "markdown",
   "metadata": {},
   "source": [
    "Used as follows:"
   ]
  },
  {
   "cell_type": "code",
   "execution_count": 4,
   "metadata": {},
   "outputs": [
    {
     "name": "stdout",
     "output_type": "stream",
     "text": [
      "85\n",
      "27.755102040816325\n",
      "22.714681440443215\n"
     ]
    }
   ],
   "source": [
    "# a. create an instance of the human object\n",
    "jens = Human('jens',175,85)\n",
    "simon = Human('simon',190,82)\n",
    "\n",
    "# b. print an attribute\n",
    "print(jens.weight)\n",
    "\n",
    "# c. print the result of calling a method\n",
    "print(jens.bmi())\n",
    "print(simon.bmi())"
   ]
  },
  {
   "cell_type": "code",
   "execution_count": 5,
   "metadata": {},
   "outputs": [
    {
     "name": "stdout",
     "output_type": "stream",
     "text": [
      "170\n",
      "29.411764705882355\n"
     ]
    }
   ],
   "source": [
    "jens.height = 170\n",
    "print(jens.height)\n",
    "print(jens.bmi())"
   ]
  },
  {
   "cell_type": "markdown",
   "metadata": {},
   "source": [
    "### Creating an economic agent"
   ]
  },
  {
   "cell_type": "markdown",
   "metadata": {},
   "source": [
    "$$\n",
    "u(x_1,x_2)=x_1^\\alpha x_2^{1-\\alpha}\n",
    "$$"
   ]
  },
  {
   "cell_type": "markdown",
   "metadata": {},
   "source": [
    "$$\n",
    "x_1^{\\star}=\\alpha \\frac {I}{p_1} \\newline\n",
    "x_2^{\\star}=(1-\\alpha) \\frac {I}{p_2}\n",
    "$$"
   ]
  },
  {
   "cell_type": "code",
   "execution_count": 6,
   "metadata": {},
   "outputs": [],
   "source": [
    "import numpy as np\n"
   ]
  },
  {
   "cell_type": "code",
   "execution_count": 7,
   "metadata": {},
   "outputs": [],
   "source": [
    "class Agent:\n",
    "    \n",
    "    def __init__(self,**kwargs):\n",
    "        \n",
    "        self.name = 'simon'\n",
    "        \n",
    "        self.alpha = 0.5\n",
    "\n",
    "        self.p1 = 1\n",
    "        self.p2 = 2\n",
    "        self.I = 10\n",
    "\n",
    "        self.x1 = np.nan\n",
    "        self.x2 = np.nan\n",
    "\n",
    "        self.solved = False\n",
    "\n",
    "        for key, value in kwargs.items():\n",
    "            setattr(self,key,value) # like self.key = value\n",
    "\n",
    "    def __str__(self): # print all the information about the agent\n",
    "        text = f'The agent is called {self.name} and faces the problem: \\n'\n",
    "        text += f'income = {self.I} \\n'\n",
    "        text += f'\\u03B1 = {self.alpha} \\n'\n",
    "        text += f'prices are = ({self.p1},{self.p2}) \\n'\n",
    "        if self.solved:\n",
    "            text += f'optimal consumption of (x_1,x_2) = ({self.x1},{self.x2})'\n",
    "        else:\n",
    "            text += 'optimal consumption has not been found'\n",
    "        return text\n",
    "    \n",
    "    def u_func(self,x1,x2):\n",
    "        return x1**self.alpha*x2**(1-self.alpha)\n",
    "    \n",
    "    def expenditure(self,x1,x2):\n",
    "        return x1*self.p1+x2*self.p2\n",
    "    \n",
    "    def solve(self):\n",
    "        self.x1 = self.alpha*self.I/self.p1\n",
    "        self.x2 = (1-self.alpha)*self.I/self.p2\n",
    "\n",
    "    def print_solution(self):\n",
    "        text = f'optimal consumption of (x_1,x_2) = ({self.x1},{self.x2}) \\n'\n",
    "        text += f'utility of the agent is {self.u_func(self.x1,self.x2):.2f} \\n'\n",
    "        text += f'expenditure is {self.expenditure(self.x1,self.x2)}'\n",
    "        print(text)\n",
    "    \n",
    "        "
   ]
  },
  {
   "cell_type": "code",
   "execution_count": 8,
   "metadata": {},
   "outputs": [
    {
     "name": "stdout",
     "output_type": "stream",
     "text": [
      "The agent is called simon and faces the problem: \n",
      "income = 10 \n",
      "α = 0.5 \n",
      "prices are = (1,2) \n",
      "optimal consumption has not been found\n"
     ]
    }
   ],
   "source": [
    "Simon = Agent()\n",
    "print(Simon)"
   ]
  },
  {
   "cell_type": "code",
   "execution_count": 9,
   "metadata": {},
   "outputs": [
    {
     "name": "stdout",
     "output_type": "stream",
     "text": [
      "optimal consumption of (x_1,x_2) = (5.0,2.5) \n",
      "utility of the agent is 3.54 \n",
      "expenditure is 10.0\n"
     ]
    }
   ],
   "source": [
    "Simon.solve()\n",
    "Simon.print_solution()"
   ]
  },
  {
   "cell_type": "code",
   "execution_count": 10,
   "metadata": {},
   "outputs": [
    {
     "data": {
      "text/plain": [
       "10.000000000000002"
      ]
     },
     "execution_count": 10,
     "metadata": {},
     "output_type": "execute_result"
    }
   ],
   "source": [
    "Simon.u_func(10,10)"
   ]
  },
  {
   "cell_type": "code",
   "execution_count": 11,
   "metadata": {},
   "outputs": [
    {
     "name": "stdout",
     "output_type": "stream",
     "text": [
      "The agent is called Jens and faces the problem: \n",
      "income = 7 \n",
      "α = 0.3 \n",
      "prices are = (1,2) \n",
      "optimal consumption has not been found\n"
     ]
    }
   ],
   "source": [
    "Jens = Agent(I=7, name='Jens', alpha=0.3)\n",
    "print(Jens)"
   ]
  },
  {
   "cell_type": "code",
   "execution_count": 12,
   "metadata": {},
   "outputs": [
    {
     "name": "stdout",
     "output_type": "stream",
     "text": [
      "optimal consumption of (x_1,x_2) = (2.1,2.4499999999999997) \n",
      "utility of the agent is 2.34 \n",
      "expenditure is 7.0\n"
     ]
    }
   ],
   "source": [
    "Jens.solve()\n",
    "Jens.print_solution()"
   ]
  }
 ],
 "metadata": {
  "kernelspec": {
   "display_name": "base",
   "language": "python",
   "name": "python3"
  },
  "language_info": {
   "codemirror_mode": {
    "name": "ipython",
    "version": 3
   },
   "file_extension": ".py",
   "mimetype": "text/x-python",
   "name": "python",
   "nbconvert_exporter": "python",
   "pygments_lexer": "ipython3",
   "version": "3.11.7"
  }
 },
 "nbformat": 4,
 "nbformat_minor": 2
}
